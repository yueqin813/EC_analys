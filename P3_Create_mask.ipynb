{
 "cells": [
  {
   "cell_type": "markdown",
   "id": "49d9376b-1f8b-4ce3-a7ba-a2ed2b784caa",
   "metadata": {
    "tags": []
   },
   "source": [
    "# 'Create_mask.ipynb' is created by Yue on Feb 7, 2024 for creating quality control masks.\n",
    "\n",
    "Workflow:\n",
    "1. Load statistical data [n_hours,sonum].\n",
    "2. QC for nan, spikes, stability, wind angle, Taylor hypothesis, ustar magnitude, H magnitude.\n",
    "3. Save results.\n",
    "\n",
    "Notes:\n",
    "1. input directory: /save_statistical_data.\n",
    "2. output directory: /save_mask_data.\n",
    "3. Add flags when the number of nan exceeds 10%.\n",
    "4. Add flags when the number of spikes exceeds 1%.\n",
    "5. Neural case is defines as |Z/L|<0.1.\n",
    "6. Wind angle should be <120 degrees or >240 degrees.\n",
    "7. Taylor hypothesis use u_std/u_avg < 0.5.\n",
    "8. magnitude control: u_star > 0.05 m/s. (all hours passed this test)\n",
    "9. |H| > 10 W/m^2\n",
    "\n",
    "=========== Disable de-spike on Sep 14, 2024 and save data to /save_mask_data_091424 =====\n",
    "\n",
    "=========== Disable de-spike and do planar fit on Sep 19, 2024 and save data to /save_mask_data_planarfit =====\n",
    "\n",
    "=========== Disable de-spike and do planar fit on Sep 19, 2024 and save data to /save_mask_data_data_092024 ====="
   ]
  },
  {
   "cell_type": "markdown",
   "id": "59a665bc-a17f-4f87-a57f-e3a536bdb68d",
   "metadata": {},
   "source": [
    "# Set up environment"
   ]
  },
  {
   "cell_type": "code",
   "execution_count": 5,
   "id": "4d8091c7-7350-4f3f-afe5-e408cc066486",
   "metadata": {},
   "outputs": [],
   "source": [
    "# import packages\n",
    "import warnings\n",
    "warnings.filterwarnings('ignore')\n",
    "import numpy as np\n",
    "import pandas as pd\n",
    "import matplotlib\n",
    "import matplotlib.pyplot as plt\n",
    "import os.path\n",
    "import pickle\n",
    "import time\n",
    "from matplotlib.pyplot import figure\n",
    "import scipy.io as sio\n",
    "from datetime import date, timedelta\n",
    "from math import *"
   ]
  },
  {
   "cell_type": "markdown",
   "id": "cbd3bb87-5adc-4a3d-92df-6504caa248c0",
   "metadata": {},
   "source": [
    "# Define parameters"
   ]
  },
  {
   "cell_type": "code",
   "execution_count": 7,
   "id": "25c84861-27ea-43a3-bf7b-65e21f00bfef",
   "metadata": {},
   "outputs": [
    {
     "name": "stdout",
     "output_type": "stream",
     "text": [
      "The input directory /projectnb/urbanclimate/yueqin/idaho_ec_jupyter/save_statistical_data_092024/ exists.\n",
      "The output directory /projectnb/urbanclimate/yueqin/idaho_ec_jupyter/save_mask_data_092024/ exists.\n"
     ]
    }
   ],
   "source": [
    "# directories\n",
    "IN_DIR = \"/projectnb/urbanclimate/yueqin/idaho_ec_jupyter/save_statistical_data_092024/\"\n",
    "OUT_DIR = \"/projectnb/urbanclimate/yueqin/idaho_ec_jupyter/save_mask_data_092024/\"\n",
    "# Check if IN_DIR exists\n",
    "if os.path.exists(IN_DIR):\n",
    "    print(f\"The input directory {IN_DIR} exists.\")\n",
    "else:\n",
    "    print(f\"The input directory {IN_DIR} does not exist.\")\n",
    "\n",
    "# Check if OUT_DIR exists\n",
    "if os.path.exists(OUT_DIR):\n",
    "    print(f\"The output directory {OUT_DIR} exists.\")\n",
    "else:\n",
    "    print(f\"The output directory {OUT_DIR} does not exist.\")\n",
    "\n",
    "# labels\n",
    "list_bot = np.array([0,1,2,3,4]) # bottom five levels\n",
    "list_sel_m2 = np.array([5,6,7,8,9,10]) # from level 6 to level 11\n",
    "\n",
    "# global constants\n",
    "sonum    =12                       # number of sonic\n",
    "z  = np.array([1.2,2,3.5,6,9,12.5,16.5,23,30,40,50,60])  # height of sonic above ground, \n",
    "frequency=10                   # sampling rate, Hz\n",
    "time_avg =3600                  # average time, s\n",
    "rpat = time_avg*frequency           # number of lines for a loop\n",
    "\n",
    "# input variables\n",
    "in_qf = ['qc_ux_nan_all', 'qc_uy_nan_all', 'qc_uz_nan_all', 'qc_T_nan_all',\n",
    "         'qc_ux_dspk_all', 'qc_uy_dspk_all', 'qc_uz_dspk_all', 'qc_T_dspk_all', 'qc_wdir_dspk_all']\n",
    "in_avg = ['wind_ang_all','u_avg_ldtr', 'u_avg_filt']\n",
    "in_std = ['u_std_ldtr', 'u_std_filt']\n",
    "in_flux = ['u_star_ldtr', 'H_ldtr', 'u_star_filt', 'H_filt']\n",
    "in_stability = ['stability_ldtr', 'stability_filt']\n",
    "\n",
    "# output variables\n",
    "out_mask = ['mask_rnan', 'mask_dspk', 'mask_neutral', 'mask_wdir', 'mask_taylor',\n",
    "           'mask_ustar_gt005', 'mask_H_gt10']"
   ]
  },
  {
   "cell_type": "markdown",
   "id": "1bdaa9a4-f0f0-4169-a631-c96a7b8a98a1",
   "metadata": {},
   "source": [
    "# Define functions"
   ]
  },
  {
   "cell_type": "code",
   "execution_count": 8,
   "id": "a41ea037-7279-4d2f-a61e-58c35e1d108b",
   "metadata": {},
   "outputs": [],
   "source": [
    "def date_list(sdate,edate):\n",
    "    \"\"\"method used for creating date list\"\"\"\n",
    "    delta = edate - sdate       # as timedelta\n",
    "    day = [sdate+timedelta(days=x) for x in range(delta.days+1)]\n",
    "    return day\n",
    "\n",
    "def CheckForLess(list1, val): \n",
    "    # traverse in the list\n",
    "    for x in list1: \n",
    "        # compare with all the\n",
    "        # values with value\n",
    "        if val <= x:\n",
    "            return False\n",
    "    return True"
   ]
  },
  {
   "cell_type": "markdown",
   "id": "c50f4e9a-34d3-4161-b712-7db832f5b1d7",
   "metadata": {},
   "source": [
    "# Create masks"
   ]
  },
  {
   "cell_type": "code",
   "execution_count": 9,
   "id": "3cd4e76b-e719-4efb-ba1a-6d102b1e24c0",
   "metadata": {},
   "outputs": [
    {
     "data": {
      "text/plain": [
       "'/projectnb/urbanclimate/yueqin/idaho_ec_jupyter/save_mask_data_092024/'"
      ]
     },
     "execution_count": 9,
     "metadata": {},
     "output_type": "execute_result"
    }
   ],
   "source": [
    "n_hours = np.load(f\"{IN_DIR}{'n_hours'}.npy\")\n",
    "write_results = True\n",
    "OUT_DIR"
   ]
  },
  {
   "cell_type": "code",
   "execution_count": 10,
   "id": "7f3a1df8-816b-4fa7-9803-14e9d623a7a4",
   "metadata": {},
   "outputs": [],
   "source": [
    "# initialization\n",
    "mask_rnan = np.zeros(n_hours, dtype=bool) # boolean array\n",
    "mask_dspk = np.zeros(n_hours, dtype=bool)\n",
    "mask_neutral = np.zeros(n_hours, dtype=bool)\n",
    "mask_wdir = np.zeros(n_hours, dtype=bool)\n",
    "mask_taylor = np.zeros(n_hours, dtype=bool)\n",
    "mask_ustar_gt005 = np.zeros(n_hours, dtype=bool)\n",
    "mask_H_gt10 = np.zeros(n_hours, dtype=bool)\n",
    "# mask_abcdef = np.zeros(n_hours)\n",
    "# load necessary variables\n",
    "for var_name in in_qf+in_avg+in_std+in_flux+in_stability:\n",
    "    globals()[var_name] = np.load(f\"{IN_DIR}{var_name}.npy\")\n",
    "for i in range(n_hours):\n",
    "    # qc should all be 0 so pass means not any 1 \n",
    "    ## relax to six level due to data missing in some days\n",
    "\n",
    "    # a. rm when nan exceeding 10%\n",
    "    crit1 = not np.any(qc_ux_nan_all[i,list_sel_m2])\n",
    "    crit2 = not np.any(qc_uy_nan_all[i,list_sel_m2])\n",
    "    crit3 = not np.any(qc_uz_nan_all[i,list_sel_m2])\n",
    "    crit4 = not np.any(qc_T_nan_all[i,list_sel_m2])\n",
    "\n",
    "    # b. rm when spikes exceeding 1%\n",
    "    crit7 = not np.any(qc_ux_dspk_all[i,list_sel_m2])\n",
    "    crit8 = not np.any(qc_uy_dspk_all[i,list_sel_m2])\n",
    "    crit9 = not np.any(qc_uz_dspk_all[i,list_sel_m2])\n",
    "    crit10 = not np.any(qc_T_dspk_all[i,list_sel_m2])\n",
    "\n",
    "    mask_rnan[i] = np.all([crit1,crit2,crit3,crit4]) #a\n",
    "    mask_dspk[i] = np.all([crit7,crit8,crit9,crit10]) #b\n",
    "\n",
    "    # c. neutral case |z/L|<0.1\n",
    "    mask_neutral_ldtr = CheckForLess(abs(stability_ldtr[i,:]),0.1)\n",
    "    mask_neutral_filt = CheckForLess(abs(stability_filt[i,:]),0.1)\n",
    "    mask_neutral[i] = np.all([mask_neutral_ldtr,mask_neutral_filt]) #c\n",
    "\n",
    "    # d. wind angle smaller than 120 or larger than 240\n",
    "    \n",
    "    mask_wdir[i] = not np.any(qc_wdir_dspk_all[i,list_sel_m2]) #d\n",
    "\n",
    "    # e. taylor_assumption_control sigma_u/U< 0.5\n",
    "    ratio_u_ldtr = u_std_ldtr[i,:]/u_avg_ldtr[i,:]\n",
    "    ratio_u_filt = u_std_filt[i,:]/u_avg_filt[i,:]\n",
    "    msk1 = CheckForLess(ratio_u_ldtr[list_sel_m2],0.5)\n",
    "    msk2 = CheckForLess(ratio_u_filt[list_sel_m2],0.5)\n",
    "    mask_taylor[i] = np.all([msk1,msk2]) #e\n",
    "\n",
    "    # f. u>0.05m/s\n",
    "    msk1 = CheckForLess(-u_star_ldtr[i,list_sel_m2],-0.05)\n",
    "    msk2 = CheckForLess(-u_star_filt[i,list_sel_m2],-0.05)\n",
    "    mask_ustar_gt005[i] = np.all([msk1,msk2]) #f\n",
    "\n",
    "    # g. |H|>10 W/m2\n",
    "    msk3 = CheckForLess(-abs(H_ldtr[i,list_sel_m2]),-10)\n",
    "    msk4 = CheckForLess(-abs(H_filt[i,list_sel_m2]),-10)\n",
    "    mask_H_gt10[i] = np.all([msk3,msk4]) #g"
   ]
  },
  {
   "cell_type": "code",
   "execution_count": 11,
   "id": "c2d7461c-376c-48f7-9bf2-9356b2e21ce0",
   "metadata": {},
   "outputs": [],
   "source": [
    "if write_results: # write output by days\n",
    "    for var_name in out_mask:\n",
    "        var_value = globals()[var_name]\n",
    "        filename = f\"{var_name}.npy\"\n",
    "        np.save(OUT_DIR + filename, var_value)"
   ]
  },
  {
   "cell_type": "markdown",
   "id": "4c310ca8-5d18-4982-a16b-34f661ffa903",
   "metadata": {},
   "source": [
    "# Check results"
   ]
  },
  {
   "cell_type": "code",
   "execution_count": 12,
   "id": "4f1a67ce-0a28-49f7-be72-af92d07da263",
   "metadata": {},
   "outputs": [
    {
     "data": {
      "text/plain": [
       "4788"
      ]
     },
     "execution_count": 12,
     "metadata": {},
     "output_type": "execute_result"
    }
   ],
   "source": [
    "np.sum(mask_rnan)"
   ]
  },
  {
   "cell_type": "code",
   "execution_count": 13,
   "id": "4edd1084-a067-42d2-b4bd-db58931351fb",
   "metadata": {},
   "outputs": [
    {
     "data": {
      "text/plain": [
       "45"
      ]
     },
     "execution_count": 13,
     "metadata": {},
     "output_type": "execute_result"
    }
   ],
   "source": [
    "mask = np.zeros(n_hours, dtype=bool)\n",
    "for i in range(n_hours):\n",
    "    mask[i] = np.all([mask_rnan[i],mask_dspk[i],mask_neutral[i],mask_wdir[i],mask_taylor[i],mask_ustar_gt005[i],mask_H_gt10[i]])\n",
    "np.sum(mask)"
   ]
  },
  {
   "cell_type": "code",
   "execution_count": 14,
   "id": "89715f13-89b5-47db-b327-e02b1757bb0b",
   "metadata": {},
   "outputs": [
    {
     "data": {
      "text/plain": [
       "107"
      ]
     },
     "execution_count": 14,
     "metadata": {},
     "output_type": "execute_result"
    }
   ],
   "source": [
    "np.sum(mask_rnan*mask_dspk*mask_neutral*mask_wdir*mask_taylor*mask_ustar_gt005)"
   ]
  }
 ],
 "metadata": {
  "kernelspec": {
   "display_name": "Python 3 (ipykernel)",
   "language": "python",
   "name": "python3"
  },
  "language_info": {
   "codemirror_mode": {
    "name": "ipython",
    "version": 3
   },
   "file_extension": ".py",
   "mimetype": "text/x-python",
   "name": "python",
   "nbconvert_exporter": "python",
   "pygments_lexer": "ipython3",
   "version": "3.8.12"
  }
 },
 "nbformat": 4,
 "nbformat_minor": 5
}
