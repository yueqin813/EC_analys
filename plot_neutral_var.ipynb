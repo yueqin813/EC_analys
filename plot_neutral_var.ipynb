{
 "cells": [
  {
   "cell_type": "markdown",
   "id": "7958cb66-1e3c-48e3-923d-05cf9055d799",
   "metadata": {},
   "source": [
    "# This is for plotting velocity variance under neutral condition #\n",
    "Note: data with diag_csat_ins >= 65 are discarded in advance.\n",
    "\n",
    "2022-6-15"
   ]
  },
  {
   "cell_type": "code",
   "execution_count": null,
   "id": "a0159651-c178-4d49-a03f-108c8d49bb27",
   "metadata": {},
   "outputs": [],
   "source": [
    "# This jupyter notebook command inserts matplotlib graphics in \n",
    "# to the workbook\n",
    "%matplotlib inline\n",
    "\n",
    "# import packages\n",
    "import warnings\n",
    "warnings.filterwarnings('ignore')\n",
    "import numpy as np\n",
    "import pandas as pd\n",
    "import matplotlib\n",
    "import matplotlib.pyplot as plt\n",
    "import os.path\n",
    "import pickle\n",
    "import time\n",
    "from matplotlib.pyplot import figure\n",
    "import scipy.io as sio\n",
    "from datetime import date, timedelta\n",
    "from math import *\n",
    "from scipy.stats import gmean\n",
    "from scipy import ndimage\n",
    "# directories\n",
    "IN_DIRECTORY = \"/projectnb/urbanclimate/yueqin/idaho_ec_jupyter/basic_processed_data/\"\n",
    "IN_DIRECTORY2 = \"/projectnb/urbanclimate/yueqin/idaho_ec_jupyter/processeddata/\"\n",
    "msk_DIR = \"/projectnb/urbanclimate/yueqin/idaho_ec_jupyter/mask/\"\n",
    "OUT_DIRECTORY = \"/projectnb/urbanclimate/yueqin/idaho_ec_jupyter/fig_neutral/\"\n",
    "ins_var=['u_ins'] # 36000 instantaneous variables per hour \n",
    "tur_var=['u_tur'] # 36000 instantaneous variables per hour \n",
    "avg_var=['u_avg','u_star','L_H2','v_avg'] # 1 averaged variable per hour\n",
    "flg_var=['diag_csat_ins','sig_irga_ins']\n",
    "msk = ['mask_INL_all_1d']"
   ]
  },
  {
   "cell_type": "code",
   "execution_count": null,
   "id": "654f0037-82cc-4073-9d63-a8ee67354a1f",
   "metadata": {},
   "outputs": [],
   "source": []
  }
 ],
 "metadata": {
  "kernelspec": {
   "display_name": "Python 3 (ipykernel)",
   "language": "python",
   "name": "python3"
  },
  "language_info": {
   "codemirror_mode": {
    "name": "ipython",
    "version": 3
   },
   "file_extension": ".py",
   "mimetype": "text/x-python",
   "name": "python",
   "nbconvert_exporter": "python",
   "pygments_lexer": "ipython3",
   "version": "3.8.0"
  }
 },
 "nbformat": 4,
 "nbformat_minor": 5
}
