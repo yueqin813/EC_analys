{
 "cells": [
  {
   "cell_type": "markdown",
   "metadata": {},
   "source": [
    "# This is for plotting wind profile under neutral condition \n",
    "2022-3-30"
   ]
  },
  {
   "cell_type": "code",
   "execution_count": 1,
   "metadata": {},
   "outputs": [],
   "source": [
    "# import packages\n",
    "import warnings\n",
    "warnings.filterwarnings('ignore')\n",
    "import numpy as np\n",
    "import pandas as pd\n",
    "import matplotlib\n",
    "import matplotlib.pyplot as plt\n",
    "import os.path\n",
    "import pickle\n",
    "import time\n",
    "from matplotlib.pyplot import figure\n",
    "import scipy.io as sio\n",
    "from datetime import date, timedelta\n",
    "from mpmath import *\n",
    "# directories\n",
    "IN_DIRECTORY = \"/projectnb/urbanclimate/yueqin/idaho_2020/basic_processed_data/\"\n",
    "IN_DIRECTORY2 = \"/projectnb/urbanclimate/yueqin/idaho_2020/processeddata/\"\n",
    "msk_DIR = \"/projectnb/urbanclimate/yueqin/idaho_2020/mask/\"\n",
    "OUT_DIRECTORY = \"/projectnb/urbanclimate/yueqin/idaho_2020/fig_neutral/\"\n",
    "ins_var=['u_ins'] # 36000 instantaneous variables per hour \n",
    "tur_var=['u_tur'] # 36000 instantaneous variables per hour \n",
    "avg_var=['u_avg','u_star'] # 1 averaged variable per hour\n",
    "flg_var=['diag_csat_ins','sig_irga_ins']\n",
    "msk = ['mask_INL_all_1d']"
   ]
  },
  {
   "cell_type": "code",
   "execution_count": 39,
   "metadata": {
    "jupyter": {
     "source_hidden": true
    }
   },
   "outputs": [
    {
     "name": "stdout",
     "output_type": "stream",
     "text": [
      "CPU times: user 341 ms, sys: 268 ms, total: 609 ms\n",
      "Wall time: 3.93 s\n"
     ]
    }
   ],
   "source": [
    "%%time\n",
    "Dir = \"/projectnb/urbanclimate/yueqin/idaho_2020/compressed_data/\"\n",
    "b_file = open('/projectnb/urbanclimate/yueqin/idaho_2020/basic_processed_data/w_ins_20200920.pkl', \"rb\")\n",
    "w = pickle.load(b_file)    \n",
    "b_file.close()\n",
    "b_file = open('/projectnb/urbanclimate/yueqin/idaho_2020/basic_processed_data/u_ins_20200920.pkl', \"rb\")\n",
    "u = pickle.load(b_file)    \n",
    "b_file.close()\n",
    "b_file = open('/projectnb/urbanclimate/yueqin/idaho_2020/basic_processed_data/v_ins_20200920.pkl', \"rb\")\n",
    "v = pickle.load(b_file)    \n",
    "b_file.close()\n",
    "np.savez(Dir+'ins_20200920.npz',u=u,v=v,w=w)"
   ]
  },
  {
   "cell_type": "code",
   "execution_count": 45,
   "metadata": {
    "jupyter": {
     "source_hidden": true
    }
   },
   "outputs": [
    {
     "name": "stdout",
     "output_type": "stream",
     "text": [
      "CPU times: user 1.94 ms, sys: 29.4 ms, total: 31.3 ms\n",
      "Wall time: 30 ms\n"
     ]
    }
   ],
   "source": [
    "%%time\n",
    "b_file = open('/projectnb/urbanclimate/yueqin/idaho_2020/basic_processed_data/w_ins_20200920.pkl', \"rb\")\n",
    "a = pickle.load(b_file)    \n",
    "b_file.close()\n",
    "w = a"
   ]
  },
  {
   "cell_type": "code",
   "execution_count": 49,
   "metadata": {
    "jupyter": {
     "source_hidden": true
    }
   },
   "outputs": [
    {
     "name": "stdout",
     "output_type": "stream",
     "text": [
      "CPU times: user 96.2 ms, sys: 27.2 ms, total: 123 ms\n",
      "Wall time: 125 ms\n"
     ]
    }
   ],
   "source": [
    "%%time\n",
    "a = np.load('/projectnb/urbanclimate/yueqin/idaho_2020/compressed_data/w_ins_20200920.npz')\n",
    "w = a['arr_0']"
   ]
  },
  {
   "cell_type": "code",
   "execution_count": 29,
   "metadata": {
    "jupyter": {
     "source_hidden": true
    }
   },
   "outputs": [
    {
     "name": "stdout",
     "output_type": "stream",
     "text": [
      "-rw-r--r-- 1 yueqin urbanclimate 80M Sep 23  2021 /projectnb/urbanclimate/yueqin/idaho_2020/basic_processed_data/w_ins_20200920.pkl\n",
      "-rw-r--r-- 1 yueqin urbanclimate 80M Mar 31 11:55 /projectnb/urbanclimate/yueqin/idaho_2020/compressed_data/w_ins_20200920.npz\n"
     ]
    }
   ],
   "source": [
    "!ls -lh /projectnb/urbanclimate/yueqin/idaho_2020/basic_processed_data/w_ins_20200920.pkl\n",
    "!ls -lh /projectnb/urbanclimate/yueqin/idaho_2020/compressed_data/w_ins_20200920.npz"
   ]
  },
  {
   "cell_type": "markdown",
   "metadata": {},
   "source": [
    "# define constants and labels"
   ]
  },
  {
   "cell_type": "code",
   "execution_count": 50,
   "metadata": {},
   "outputs": [],
   "source": [
    "sonum    =12                       # number of sonic\n",
    "z        = np.array([1.2,2,3.5,6,8.2,12.8,15.8,23,30.3,40.2,50.6,60.5])                # height of sonic above ground, m\n",
    "frequency=10                   # sampling frequency, Hz\n",
    "time_avg =3600                  # average time, s\n",
    "rpat = time_avg*frequency           # number of lines for a loop\n",
    "\n",
    "# physical constants (or values that are assumed constant)\n",
    "Rw  = 461.5     # ideal gas constant for water vapor, J/kg*K\n",
    "Rd  = 287.05    # ideal gas constant for dry air, J/kg*K\n",
    "Lv  = 1000*2257 # latent heat of vaporization (water), J/kg\n",
    "Cp  = 1005      # approximate constant pressure specific heat of air, J/kg*K\n",
    "kappa   = 0.4       # Von Karman constant\n",
    "g   = 9.81      # acceleration of gravity, m/s^2\n",
    "list_col = ['C1','C2','C3','C4','B1','B2','B3','B4','A1','A2','A3','A4']\n",
    "\n",
    "# selected levels\n",
    "list_ind = range(5,11) # from level 6 to level 11"
   ]
  },
  {
   "cell_type": "markdown",
   "metadata": {},
   "source": [
    "# define functions"
   ]
  },
  {
   "cell_type": "code",
   "execution_count": 51,
   "metadata": {},
   "outputs": [],
   "source": [
    "def date_list(sdate,edate):\n",
    "    \"\"\"method used for creating date list\"\"\"\n",
    "    delta = edate - sdate       # as timedelta\n",
    "    day = [sdate+timedelta(days=x) for x in range(delta.days+1)]\n",
    "    return day"
   ]
  },
  {
   "cell_type": "markdown",
   "metadata": {},
   "source": [
    "# set up time period and initialize variables"
   ]
  },
  {
   "cell_type": "code",
   "execution_count": 71,
   "metadata": {},
   "outputs": [],
   "source": [
    "Sdate = date(2020,9,25)\n",
    "Edate = date(2021,4,23)\n",
    "ds = date_list(Sdate,Edate)\n",
    "# u_ins_df = np.zeros((24*rpat,sonum,len(ds)))+np.nan\n",
    "# v_ins_df = np.zeros((24*rpat,sonum,len(ds)))+np.nan\n",
    "# w_ins_df = np.zeros((24*rpat,sonum,len(ds)))+np.nan\n",
    "# u_tur_df = np.zeros((24*rpat,sonum,len(ds)))+np.nan\n",
    "# v_tur_df = np.zeros((24*rpat,sonum,len(ds)))+np.nan\n",
    "# w_tur_df = np.zeros((24*rpat,sonum,len(ds)))+np.nan\n",
    "# ts_df = np.zeros((24*rpat,len(ds)))+np.nan"
   ]
  },
  {
   "cell_type": "markdown",
   "metadata": {
    "tags": []
   },
   "source": [
    "# set up controls"
   ]
  },
  {
   "cell_type": "code",
   "execution_count": 53,
   "metadata": {
    "tags": []
   },
   "outputs": [],
   "source": [
    "do_processing = True\n",
    "do_saving = False"
   ]
  },
  {
   "cell_type": "markdown",
   "metadata": {},
   "source": [
    "# Load instantaneous data and process data"
   ]
  },
  {
   "cell_type": "code",
   "execution_count": 72,
   "metadata": {},
   "outputs": [
    {
     "name": "stdout",
     "output_type": "stream",
     "text": [
      "start loading:20200925\n",
      "start processing:20200925\n",
      "neutral case - Hour 16\n",
      "neutral case - Hour 17\n",
      "neutral case - Hour 19\n",
      "finish processing:20200925\n",
      "------------------------\n",
      "start loading:20200926\n",
      "start loading:20200927\n",
      "start loading:20200928\n",
      "start loading:20200929\n",
      "start loading:20200930\n",
      "start loading:20201001\n",
      "start loading:20201002\n",
      "start loading:20201003\n",
      "start loading:20201004\n",
      "start loading:20201005\n",
      "start loading:20201006\n",
      "start loading:20201007\n",
      "start loading:20201008\n",
      "start processing:20201008\n",
      "finish processing:20201008\n",
      "------------------------\n",
      "start loading:20201009\n",
      "start loading:20201010\n",
      "start processing:20201010\n",
      "neutral case - Hour 16\n",
      "neutral case - Hour 21\n",
      "finish processing:20201010\n",
      "------------------------\n",
      "start loading:20201011\n",
      "start processing:20201011\n",
      "finish processing:20201011\n",
      "------------------------\n",
      "start loading:20201012\n",
      "start processing:20201012\n",
      "neutral case - Hour 17\n",
      "neutral case - Hour 18\n",
      "finish processing:20201012\n",
      "------------------------\n",
      "start loading:20201013\n",
      "start processing:20201013\n",
      "neutral case - Hour 14\n",
      "neutral case - Hour 16\n",
      "neutral case - Hour 18\n",
      "neutral case - Hour 19\n",
      "finish processing:20201013\n",
      "------------------------\n",
      "start loading:20201014\n",
      "start loading:20201015\n",
      "start loading:20201016\n",
      "start processing:20201016\n",
      "neutral case - Hour 17\n",
      "finish processing:20201016\n",
      "------------------------\n",
      "start loading:20201017\n",
      "start processing:20201017\n",
      "neutral case - Hour 17\n",
      "finish processing:20201017\n",
      "------------------------\n",
      "start loading:20201018\n",
      "start processing:20201018\n",
      "neutral case - Hour 16\n",
      "finish processing:20201018\n",
      "------------------------\n",
      "start loading:20201019\n",
      "start processing:20201019\n",
      "neutral case - Hour 9\n",
      "neutral case - Hour 17\n",
      "finish processing:20201019\n",
      "------------------------\n",
      "start loading:20201020\n",
      "start processing:20201020\n",
      "finish processing:20201020\n",
      "------------------------\n",
      "start loading:20201021\n",
      "start processing:20201021\n",
      "neutral case - Hour 9\n",
      "neutral case - Hour 15\n",
      "neutral case - Hour 16\n",
      "neutral case - Hour 18\n",
      "finish processing:20201021\n",
      "------------------------\n",
      "start loading:20201022\n",
      "start processing:20201022\n",
      "neutral case - Hour 4\n",
      "finish processing:20201022\n",
      "------------------------\n",
      "start loading:20201023\n"
     ]
    },
    {
     "ename": "FileNotFoundError",
     "evalue": "[Errno 2] No such file or directory: '/projectnb/urbanclimate/yueqin/idaho_2020/mask/mask_neutral_20201023.pkl'",
     "output_type": "error",
     "traceback": [
      "\u001b[0;31m---------------------------------------------------------------------------\u001b[0m",
      "\u001b[0;31mFileNotFoundError\u001b[0m                         Traceback (most recent call last)",
      "\u001b[0;32m<timed exec>\u001b[0m in \u001b[0;36m<module>\u001b[0;34m\u001b[0m\n",
      "\u001b[0;31mFileNotFoundError\u001b[0m: [Errno 2] No such file or directory: '/projectnb/urbanclimate/yueqin/idaho_2020/mask/mask_neutral_20201023.pkl'"
     ]
    }
   ],
   "source": [
    "%%time\n",
    "t_id = 0\n",
    "i_hr_total = 0\n",
    "for day in ds:\n",
    "    strday = str(day.strftime(\"%Y%m%d\"))\n",
    "    fp_stats = IN_DIRECTORY + 'u_ins_' + strday +'.pkl'\n",
    "    if (not os.path.isfile(fp_stats)):\n",
    "        print(day.strftime(\"%Y%m%d\")+' do not exist')\n",
    "        continue\n",
    "    print('start loading:'+ strday)\n",
    "    # load neutral mask\n",
    "    b_file = open(msk_DIR + 'mask_neutral_' + strday +'.pkl', \"rb\")\n",
    "    mask_neutral = pickle.load(b_file)    \n",
    "    b_file.close()\n",
    "    if not any(mask_neutral):\n",
    "        continue\n",
    "    # load masks\n",
    "    for var in msk:\n",
    "        a_file = open(msk_DIR + var +'_' + strday +'.pkl', \"rb\")\n",
    "        globals()[var] = pickle.load(a_file)    \n",
    "        a_file.close()\n",
    "    nan_msk=np.isnan(mask_INL_all_1d)\n",
    "    if all(nan_msk):\n",
    "        continue\n",
    "    # load avg variables\n",
    "    for var in avg_var: \n",
    "        a_file = open(IN_DIRECTORY + var +'_' + strday +'.pkl', \"rb\")\n",
    "        globals()[var] = pickle.load(a_file)    \n",
    "        a_file.close() \n",
    "    # compute log wind profile\n",
    "    if do_processing:\n",
    "        print('start processing:'+ strday)\n",
    "        slope_m1_sel = np.zeros((len(mask_neutral),1))+np.nan\n",
    "        intecept_m1_sel = np.zeros((len(mask_neutral),1))+np.nan\n",
    "        zo_m1_sel = np.zeros((len(mask_neutral),1))+np.nan\n",
    "        u_star_m1_sel = np.zeros((len(mask_neutral),1))+np.nan\n",
    "        u_stat_dev = np.zeros((len(mask_neutral),sonum))+np.nan\n",
    "        u_star_m1_sel_dev = np.zeros((len(mask_neutral),sonum))+np.nan\n",
    "        u_star_m1_sel_dev_mean = np.zeros((len(mask_neutral),1))+np.nan\n",
    "        for i in range(len(mask_neutral)):\n",
    "            if mask_neutral[i] and (~nan_msk[i]):\n",
    "                print('neutral case - Hour ' + str(i+1))\n",
    "                # compute variations of u_star across all levels, the mean value is calculated by selected levels\n",
    "                u_stat_dev[i,:] = (u_star[i,:]-np.nanmean(u_star[i,list_ind]))/np.nanmean(u_star[i,list_ind])\n",
    "                # ---------------------- method 1, fit with kappa = 0.4 and using selected data\n",
    "                p1,p2 = np.polyfit(np.log(z[list_ind]), u_avg[i,list_ind], deg = 1)\n",
    "                slope_m1_sel[i]    = p1\n",
    "                intecept_m1_sel[i] = p2\n",
    "                zo_m1_sel[i]   = exp(-p2/p1) # momentum roughness length\n",
    "                u_star_m1_sel[i] = kappa*slope_m1_sel[i]\n",
    "                # compute variations of u_star across all levels, the mean value is calculated by method 1\n",
    "                u_star_m1_sel_dev[i,:] = (u_star[i,:]-u_star_m1_sel[i])/u_star_m1_sel[i]\n",
    "                u_star_m1_sel_dev_mean[i] = np.nanmean(abs(u_star_m1_sel_dev[i,list_ind]))\n",
    "                \n",
    "#                 x_vector = log(z[list_ind])\n",
    "#                 y_vector = u_avg[i,list_ind]\n",
    "#                 R2_method1_sel (kk,1) = calculateR2(y_vector,x_vector);\n",
    "#                 R2_method1_sel_test (kk,1) = calculateR2(y_vector./u_star_method1_sel(kk,1),x_vector); %this will not the results\n",
    "#                 RMSE_method1_sel(kk,1) =  sqrt(sum((y_vector-(slope_method1_sel(kk,1)*x_vector+intecept_method1_sel(kk,1))).^2)); \n",
    "                \n",
    "                # ---------------------- method2, fit with ec measured ustar and using selected data\n",
    "                # This method will give nearly the same zo as method 1 if using\n",
    "                # the same selected data, the only difference is the kappa value and the u_star\n",
    "                \n",
    "        \n",
    "\n",
    "\n",
    "#         cdatetime = cyr +'-' + cmonth +'-'+cdys\n",
    "#         st_datetime = pd.Timestamp(int(cyr),int(cmonth),int(cdys),0)\n",
    "#         ed_datetime = pd.Timestamp(int(cyr),int(cmonth),int(cdys),23)\n",
    "#         DateTime = pd.date_range(start=st_datetime, end=ed_datetime, periods=24)\n",
    "#         ts = np.repeat(DateTime,rpat)\n",
    "#         ts_df[:,t_id]=ts\n",
    "#         u_ins_df[:,:,t_id]=u_ins\n",
    "#         v_ins_df[:,:,t_id]=v_ins\n",
    "#         w_ins_df[:,:,t_id]=w_ins\n",
    "\n",
    "    print('finish processing:'+ strday)\n",
    "    print('------------------------')\n",
    "    t_id += 1"
   ]
  },
  {
   "cell_type": "code",
   "execution_count": 34,
   "metadata": {},
   "outputs": [
    {
     "name": "stdout",
     "output_type": "stream",
     "text": [
      "[12.8 15.8 23.  30.3 40.2 50.6]\n"
     ]
    }
   ],
   "source": [
    "list_ind = range(5,11)\n",
    "z        = np.array([1.2,2,3.5,6,8.2,12.8,15.8,23,30.3,40.2,50.6,60.5])\n",
    "print(z[list_ind])"
   ]
  }
 ],
 "metadata": {
  "kernelspec": {
   "display_name": "Python 3",
   "language": "python",
   "name": "python3"
  },
  "language_info": {
   "codemirror_mode": {
    "name": "ipython",
    "version": 3
   },
   "file_extension": ".py",
   "mimetype": "text/x-python",
   "name": "python",
   "nbconvert_exporter": "python",
   "pygments_lexer": "ipython3",
   "version": "3.8.3"
  },
  "toc-autonumbering": true,
  "toc-showcode": true,
  "toc-showmarkdowntxt": false
 },
 "nbformat": 4,
 "nbformat_minor": 4
}
