{
 "cells": [
  {
   "cell_type": "markdown",
   "metadata": {},
   "source": [
    "This first part pre-processes EC data and saves u,v,w,q,C,P,Tsonic and hourly averaged data with the desired format.\\\n",
    "data is from date(2020,9,25) to date(2021,4,23)\\\n",
    "Note: GroupC data missing from date(2021,1,15) to date(2021,2,21), and date(2020,12,16)\\\n",
    "2021-8-24 created by Yue"
   ]
  },
  {
   "cell_type": "markdown",
   "metadata": {},
   "source": [
    "# Set up envir #"
   ]
  },
  {
   "cell_type": "code",
   "execution_count": 1,
   "metadata": {},
   "outputs": [],
   "source": [
    "# Turn off annoying warnings\n",
    "import warnings\n",
    "warnings.filterwarnings('ignore')\n",
    "# Make sure the environment is good\n",
    "import numpy as np\n",
    "import pandas as pd\n",
    "import matplotlib\n",
    "import matplotlib.pyplot as plt\n",
    "import os.path\n",
    "import pickle\n",
    "import json\n",
    "import datetime\n",
    "import time\n",
    "import matplotlib.dates as dates\n",
    "from datetime import date, timedelta\n",
    "\n",
    "DATA_DIRECTORY = \"/projectnb/urbanclimate/public/Idaho_2020/tsdata/\" \n",
    "OUT_DIRECTORY = \"/projectnb/urbanclimate/yueqin/idaho_ec_jupyter/processed_data/\""
   ]
  },
  {
   "cell_type": "markdown",
   "metadata": {},
   "source": [
    "# Define function #"
   ]
  },
  {
   "cell_type": "code",
   "execution_count": 2,
   "metadata": {},
   "outputs": [],
   "source": [
    "def date_list(sdate,edate):\n",
    "    \"\"\"method used for creating date list\"\"\"\n",
    "    delta = edate - sdate       # as timedelta\n",
    "    day = [sdate+timedelta(days=x) for x in range(delta.days+1)]\n",
    "    return day"
   ]
  },
  {
   "cell_type": "code",
   "execution_count": 3,
   "metadata": {},
   "outputs": [],
   "source": [
    "sonum    =12                       # number of sonic\n",
    "z        =[1.2,2,3.5,6,8.2,12.8,15.8,23,30.3,40.2,50.6,60.5];                 # height of sonic above ground, m\n",
    "frequency=10                   # sampling frequency, Hz\n",
    "time_avg =3600                  # average time, s\n",
    "i   = 1     # loop for number of files\n",
    "kd   = 1     # loop for saves in all files\n",
    "rpat = time_avg*frequency           # number of lines for a loop\n",
    "u_header=['Ux_C1','Ux_C2','Ux_C3','Ux_C4','Ux_B1','Ux_B2','Ux_B3','Ux_B4','Ux_A1','Ux_A2','Ux_A3','Ux_A4']\n",
    "v_header=['Uy_C1','Uy_C2','Uy_C3','Uy_C4','Uy_B1','Uy_B2','Uy_B3','Uy_B4','Uy_A1','Uy_A2','Uy_A3','Uy_A4']\n",
    "w_header=['Uz_C1','Uz_C2','Uz_C3','Uz_C4','Uz_B1','Uz_B2','Uz_B3','Uz_B4','Uz_A1','Uz_A2','Uz_A3','Uz_A4']\n",
    "Tsonic_header=['Ts_C1','Ts_C2','Ts_C3','Ts_C4','Ts_B1','Ts_B2','Ts_B3','Ts_B4','Ts_A1','Ts_A2','Ts_A3','Ts_A4']\n",
    "diag_header=['diag_sonic_C1','diag_sonic_C2','diag_sonic_C3','diag_sonic_C4','diag_sonic_B1','diag_sonic_B2','diag_sonic_B3','diag_sonic_B4',\n",
    "            'diag_sonic_A1','diag_sonic_A2','diag_sonic_A3','diag_sonic_A4']\n",
    "co2_header=['co2_C1','co2_C2','co2_C3','co2_C4','co2_B1','co2_B2','co2_B3','co2_B4','co2_A1','co2_A2','co2_A3','co2_A4']\n",
    "h2o_header=['h2o_C1','h2o_C2','h2o_C3','h2o_C4','h2o_B1','h2o_B2','h2o_B3','h2o_B4','h2o_A1','h2o_A2','h2o_A3','h2o_A4']\n",
    "sig_header=['sig_irga_C1','sig_irga_C2','sig_irga_C3','sig_irga_C4','sig_irga_B1','sig_irga_B2','sig_irga_B3',\n",
    "            'sig_irga_B4','sig_irga_A1','sig_irga_A2','sig_irga_A3','sig_irga_A4']\n",
    "press_header=['Press_irga_C1','Press_irga_C2','Press_irga_C3','Press_irga_C4','Press_irga_B1','Press_irga_B2','Press_irga_B3',\n",
    "            'Press_irga_B4','Press_irga_A1','Press_irga_A2','Press_irga_A3','Press_irga_A4']\n",
    "# print(len(month))\n",
    "\n",
    "out_var=['u_ins','v_ins','w_ins','q_ins','C_ins','P_ins','Tsonic_ins',\n",
    "         'diag_csat_ins','sig_irga_ins'] #,'date_num_ins']\n",
    "# out_var=['diag_csat_ins','sig_irga_ins']\n",
    "\n",
    "# set up saving controller\n",
    "do_saving = 0"
   ]
  },
  {
   "cell_type": "markdown",
   "metadata": {},
   "source": [
    "# compute the total days as selected in files"
   ]
  },
  {
   "cell_type": "code",
   "execution_count": 4,
   "metadata": {},
   "outputs": [
    {
     "name": "stdout",
     "output_type": "stream",
     "text": [
      "total day:1\n"
     ]
    }
   ],
   "source": [
    "d_total = 0\n",
    "# dys  = list(range(1,32))\n",
    "Sdate = date(2021,1,14)\n",
    "Edate = date(2021,1,15)\n",
    "ds = date_list(Sdate,Edate)\n",
    "for day in ds:\n",
    "    strday = str(day.strftime(\"%Y%m%d\"))       \n",
    "    # read in the input data            \n",
    "    fp_stats1 = DATA_DIRECTORY +'Group_C/ec_flux_' + strday + '_0000.dat'\n",
    "    fp_stats2 = DATA_DIRECTORY +'Group_B/ec_flux_' + strday + '_0000.dat'\n",
    "    fp_stats3 = DATA_DIRECTORY +'Group_A/ec_flux_' + strday + '_0000.dat'\n",
    "    # if os.path.isfile(fp_stats2) & os.path.isfile(fp_stats3):\n",
    "    if os.path.isfile(fp_stats1) & os.path.isfile(fp_stats2) & os.path.isfile(fp_stats2):\n",
    "        d_total += 1\n",
    "print('total day:'+str(d_total))"
   ]
  },
  {
   "cell_type": "markdown",
   "metadata": {},
   "source": [
    "# Reorganize data"
   ]
  },
  {
   "cell_type": "code",
   "execution_count": 5,
   "metadata": {},
   "outputs": [
    {
     "name": "stdout",
     "output_type": "stream",
     "text": [
      "start processing:20210114\n",
      "finish:20210114\n",
      "start processing:20210115\n"
     ]
    },
    {
     "ename": "FileNotFoundError",
     "evalue": "[Errno 2] No such file or directory: '/projectnb/urbanclimate/public/Idaho_2020/tsdata/Group_C/ec_flux_20210115_0000.dat'",
     "output_type": "error",
     "traceback": [
      "\u001b[0;31m---------------------------------------------------------------------------\u001b[0m",
      "\u001b[0;31mFileNotFoundError\u001b[0m                         Traceback (most recent call last)",
      "File \u001b[0;32m<timed exec>:27\u001b[0m\n",
      "File \u001b[0;32m/projectnb/urbanclimate/yueqin/.conda/envs/py3/lib/python3.8/site-packages/pandas/util/_decorators.py:211\u001b[0m, in \u001b[0;36mdeprecate_kwarg.<locals>._deprecate_kwarg.<locals>.wrapper\u001b[0;34m(*args, **kwargs)\u001b[0m\n\u001b[1;32m    209\u001b[0m     \u001b[38;5;28;01melse\u001b[39;00m:\n\u001b[1;32m    210\u001b[0m         kwargs[new_arg_name] \u001b[38;5;241m=\u001b[39m new_arg_value\n\u001b[0;32m--> 211\u001b[0m \u001b[38;5;28;01mreturn\u001b[39;00m \u001b[43mfunc\u001b[49m\u001b[43m(\u001b[49m\u001b[38;5;241;43m*\u001b[39;49m\u001b[43margs\u001b[49m\u001b[43m,\u001b[49m\u001b[43m \u001b[49m\u001b[38;5;241;43m*\u001b[39;49m\u001b[38;5;241;43m*\u001b[39;49m\u001b[43mkwargs\u001b[49m\u001b[43m)\u001b[49m\n",
      "File \u001b[0;32m/projectnb/urbanclimate/yueqin/.conda/envs/py3/lib/python3.8/site-packages/pandas/util/_decorators.py:331\u001b[0m, in \u001b[0;36mdeprecate_nonkeyword_arguments.<locals>.decorate.<locals>.wrapper\u001b[0;34m(*args, **kwargs)\u001b[0m\n\u001b[1;32m    325\u001b[0m \u001b[38;5;28;01mif\u001b[39;00m \u001b[38;5;28mlen\u001b[39m(args) \u001b[38;5;241m>\u001b[39m num_allow_args:\n\u001b[1;32m    326\u001b[0m     warnings\u001b[38;5;241m.\u001b[39mwarn(\n\u001b[1;32m    327\u001b[0m         msg\u001b[38;5;241m.\u001b[39mformat(arguments\u001b[38;5;241m=\u001b[39m_format_argument_list(allow_args)),\n\u001b[1;32m    328\u001b[0m         \u001b[38;5;167;01mFutureWarning\u001b[39;00m,\n\u001b[1;32m    329\u001b[0m         stacklevel\u001b[38;5;241m=\u001b[39mfind_stack_level(),\n\u001b[1;32m    330\u001b[0m     )\n\u001b[0;32m--> 331\u001b[0m \u001b[38;5;28;01mreturn\u001b[39;00m \u001b[43mfunc\u001b[49m\u001b[43m(\u001b[49m\u001b[38;5;241;43m*\u001b[39;49m\u001b[43margs\u001b[49m\u001b[43m,\u001b[49m\u001b[43m \u001b[49m\u001b[38;5;241;43m*\u001b[39;49m\u001b[38;5;241;43m*\u001b[39;49m\u001b[43mkwargs\u001b[49m\u001b[43m)\u001b[49m\n",
      "File \u001b[0;32m/projectnb/urbanclimate/yueqin/.conda/envs/py3/lib/python3.8/site-packages/pandas/io/parsers/readers.py:950\u001b[0m, in \u001b[0;36mread_csv\u001b[0;34m(filepath_or_buffer, sep, delimiter, header, names, index_col, usecols, squeeze, prefix, mangle_dupe_cols, dtype, engine, converters, true_values, false_values, skipinitialspace, skiprows, skipfooter, nrows, na_values, keep_default_na, na_filter, verbose, skip_blank_lines, parse_dates, infer_datetime_format, keep_date_col, date_parser, dayfirst, cache_dates, iterator, chunksize, compression, thousands, decimal, lineterminator, quotechar, quoting, doublequote, escapechar, comment, encoding, encoding_errors, dialect, error_bad_lines, warn_bad_lines, on_bad_lines, delim_whitespace, low_memory, memory_map, float_precision, storage_options)\u001b[0m\n\u001b[1;32m    935\u001b[0m kwds_defaults \u001b[38;5;241m=\u001b[39m _refine_defaults_read(\n\u001b[1;32m    936\u001b[0m     dialect,\n\u001b[1;32m    937\u001b[0m     delimiter,\n\u001b[0;32m   (...)\u001b[0m\n\u001b[1;32m    946\u001b[0m     defaults\u001b[38;5;241m=\u001b[39m{\u001b[38;5;124m\"\u001b[39m\u001b[38;5;124mdelimiter\u001b[39m\u001b[38;5;124m\"\u001b[39m: \u001b[38;5;124m\"\u001b[39m\u001b[38;5;124m,\u001b[39m\u001b[38;5;124m\"\u001b[39m},\n\u001b[1;32m    947\u001b[0m )\n\u001b[1;32m    948\u001b[0m kwds\u001b[38;5;241m.\u001b[39mupdate(kwds_defaults)\n\u001b[0;32m--> 950\u001b[0m \u001b[38;5;28;01mreturn\u001b[39;00m \u001b[43m_read\u001b[49m\u001b[43m(\u001b[49m\u001b[43mfilepath_or_buffer\u001b[49m\u001b[43m,\u001b[49m\u001b[43m \u001b[49m\u001b[43mkwds\u001b[49m\u001b[43m)\u001b[49m\n",
      "File \u001b[0;32m/projectnb/urbanclimate/yueqin/.conda/envs/py3/lib/python3.8/site-packages/pandas/io/parsers/readers.py:605\u001b[0m, in \u001b[0;36m_read\u001b[0;34m(filepath_or_buffer, kwds)\u001b[0m\n\u001b[1;32m    602\u001b[0m _validate_names(kwds\u001b[38;5;241m.\u001b[39mget(\u001b[38;5;124m\"\u001b[39m\u001b[38;5;124mnames\u001b[39m\u001b[38;5;124m\"\u001b[39m, \u001b[38;5;28;01mNone\u001b[39;00m))\n\u001b[1;32m    604\u001b[0m \u001b[38;5;66;03m# Create the parser.\u001b[39;00m\n\u001b[0;32m--> 605\u001b[0m parser \u001b[38;5;241m=\u001b[39m \u001b[43mTextFileReader\u001b[49m\u001b[43m(\u001b[49m\u001b[43mfilepath_or_buffer\u001b[49m\u001b[43m,\u001b[49m\u001b[43m \u001b[49m\u001b[38;5;241;43m*\u001b[39;49m\u001b[38;5;241;43m*\u001b[39;49m\u001b[43mkwds\u001b[49m\u001b[43m)\u001b[49m\n\u001b[1;32m    607\u001b[0m \u001b[38;5;28;01mif\u001b[39;00m chunksize \u001b[38;5;129;01mor\u001b[39;00m iterator:\n\u001b[1;32m    608\u001b[0m     \u001b[38;5;28;01mreturn\u001b[39;00m parser\n",
      "File \u001b[0;32m/projectnb/urbanclimate/yueqin/.conda/envs/py3/lib/python3.8/site-packages/pandas/io/parsers/readers.py:1442\u001b[0m, in \u001b[0;36mTextFileReader.__init__\u001b[0;34m(self, f, engine, **kwds)\u001b[0m\n\u001b[1;32m   1439\u001b[0m     \u001b[38;5;28mself\u001b[39m\u001b[38;5;241m.\u001b[39moptions[\u001b[38;5;124m\"\u001b[39m\u001b[38;5;124mhas_index_names\u001b[39m\u001b[38;5;124m\"\u001b[39m] \u001b[38;5;241m=\u001b[39m kwds[\u001b[38;5;124m\"\u001b[39m\u001b[38;5;124mhas_index_names\u001b[39m\u001b[38;5;124m\"\u001b[39m]\n\u001b[1;32m   1441\u001b[0m \u001b[38;5;28mself\u001b[39m\u001b[38;5;241m.\u001b[39mhandles: IOHandles \u001b[38;5;241m|\u001b[39m \u001b[38;5;28;01mNone\u001b[39;00m \u001b[38;5;241m=\u001b[39m \u001b[38;5;28;01mNone\u001b[39;00m\n\u001b[0;32m-> 1442\u001b[0m \u001b[38;5;28mself\u001b[39m\u001b[38;5;241m.\u001b[39m_engine \u001b[38;5;241m=\u001b[39m \u001b[38;5;28;43mself\u001b[39;49m\u001b[38;5;241;43m.\u001b[39;49m\u001b[43m_make_engine\u001b[49m\u001b[43m(\u001b[49m\u001b[43mf\u001b[49m\u001b[43m,\u001b[49m\u001b[43m \u001b[49m\u001b[38;5;28;43mself\u001b[39;49m\u001b[38;5;241;43m.\u001b[39;49m\u001b[43mengine\u001b[49m\u001b[43m)\u001b[49m\n",
      "File \u001b[0;32m/projectnb/urbanclimate/yueqin/.conda/envs/py3/lib/python3.8/site-packages/pandas/io/parsers/readers.py:1735\u001b[0m, in \u001b[0;36mTextFileReader._make_engine\u001b[0;34m(self, f, engine)\u001b[0m\n\u001b[1;32m   1733\u001b[0m     \u001b[38;5;28;01mif\u001b[39;00m \u001b[38;5;124m\"\u001b[39m\u001b[38;5;124mb\u001b[39m\u001b[38;5;124m\"\u001b[39m \u001b[38;5;129;01mnot\u001b[39;00m \u001b[38;5;129;01min\u001b[39;00m mode:\n\u001b[1;32m   1734\u001b[0m         mode \u001b[38;5;241m+\u001b[39m\u001b[38;5;241m=\u001b[39m \u001b[38;5;124m\"\u001b[39m\u001b[38;5;124mb\u001b[39m\u001b[38;5;124m\"\u001b[39m\n\u001b[0;32m-> 1735\u001b[0m \u001b[38;5;28mself\u001b[39m\u001b[38;5;241m.\u001b[39mhandles \u001b[38;5;241m=\u001b[39m \u001b[43mget_handle\u001b[49m\u001b[43m(\u001b[49m\n\u001b[1;32m   1736\u001b[0m \u001b[43m    \u001b[49m\u001b[43mf\u001b[49m\u001b[43m,\u001b[49m\n\u001b[1;32m   1737\u001b[0m \u001b[43m    \u001b[49m\u001b[43mmode\u001b[49m\u001b[43m,\u001b[49m\n\u001b[1;32m   1738\u001b[0m \u001b[43m    \u001b[49m\u001b[43mencoding\u001b[49m\u001b[38;5;241;43m=\u001b[39;49m\u001b[38;5;28;43mself\u001b[39;49m\u001b[38;5;241;43m.\u001b[39;49m\u001b[43moptions\u001b[49m\u001b[38;5;241;43m.\u001b[39;49m\u001b[43mget\u001b[49m\u001b[43m(\u001b[49m\u001b[38;5;124;43m\"\u001b[39;49m\u001b[38;5;124;43mencoding\u001b[39;49m\u001b[38;5;124;43m\"\u001b[39;49m\u001b[43m,\u001b[49m\u001b[43m \u001b[49m\u001b[38;5;28;43;01mNone\u001b[39;49;00m\u001b[43m)\u001b[49m\u001b[43m,\u001b[49m\n\u001b[1;32m   1739\u001b[0m \u001b[43m    \u001b[49m\u001b[43mcompression\u001b[49m\u001b[38;5;241;43m=\u001b[39;49m\u001b[38;5;28;43mself\u001b[39;49m\u001b[38;5;241;43m.\u001b[39;49m\u001b[43moptions\u001b[49m\u001b[38;5;241;43m.\u001b[39;49m\u001b[43mget\u001b[49m\u001b[43m(\u001b[49m\u001b[38;5;124;43m\"\u001b[39;49m\u001b[38;5;124;43mcompression\u001b[39;49m\u001b[38;5;124;43m\"\u001b[39;49m\u001b[43m,\u001b[49m\u001b[43m \u001b[49m\u001b[38;5;28;43;01mNone\u001b[39;49;00m\u001b[43m)\u001b[49m\u001b[43m,\u001b[49m\n\u001b[1;32m   1740\u001b[0m \u001b[43m    \u001b[49m\u001b[43mmemory_map\u001b[49m\u001b[38;5;241;43m=\u001b[39;49m\u001b[38;5;28;43mself\u001b[39;49m\u001b[38;5;241;43m.\u001b[39;49m\u001b[43moptions\u001b[49m\u001b[38;5;241;43m.\u001b[39;49m\u001b[43mget\u001b[49m\u001b[43m(\u001b[49m\u001b[38;5;124;43m\"\u001b[39;49m\u001b[38;5;124;43mmemory_map\u001b[39;49m\u001b[38;5;124;43m\"\u001b[39;49m\u001b[43m,\u001b[49m\u001b[43m \u001b[49m\u001b[38;5;28;43;01mFalse\u001b[39;49;00m\u001b[43m)\u001b[49m\u001b[43m,\u001b[49m\n\u001b[1;32m   1741\u001b[0m \u001b[43m    \u001b[49m\u001b[43mis_text\u001b[49m\u001b[38;5;241;43m=\u001b[39;49m\u001b[43mis_text\u001b[49m\u001b[43m,\u001b[49m\n\u001b[1;32m   1742\u001b[0m \u001b[43m    \u001b[49m\u001b[43merrors\u001b[49m\u001b[38;5;241;43m=\u001b[39;49m\u001b[38;5;28;43mself\u001b[39;49m\u001b[38;5;241;43m.\u001b[39;49m\u001b[43moptions\u001b[49m\u001b[38;5;241;43m.\u001b[39;49m\u001b[43mget\u001b[49m\u001b[43m(\u001b[49m\u001b[38;5;124;43m\"\u001b[39;49m\u001b[38;5;124;43mencoding_errors\u001b[39;49m\u001b[38;5;124;43m\"\u001b[39;49m\u001b[43m,\u001b[49m\u001b[43m \u001b[49m\u001b[38;5;124;43m\"\u001b[39;49m\u001b[38;5;124;43mstrict\u001b[39;49m\u001b[38;5;124;43m\"\u001b[39;49m\u001b[43m)\u001b[49m\u001b[43m,\u001b[49m\n\u001b[1;32m   1743\u001b[0m \u001b[43m    \u001b[49m\u001b[43mstorage_options\u001b[49m\u001b[38;5;241;43m=\u001b[39;49m\u001b[38;5;28;43mself\u001b[39;49m\u001b[38;5;241;43m.\u001b[39;49m\u001b[43moptions\u001b[49m\u001b[38;5;241;43m.\u001b[39;49m\u001b[43mget\u001b[49m\u001b[43m(\u001b[49m\u001b[38;5;124;43m\"\u001b[39;49m\u001b[38;5;124;43mstorage_options\u001b[39;49m\u001b[38;5;124;43m\"\u001b[39;49m\u001b[43m,\u001b[49m\u001b[43m \u001b[49m\u001b[38;5;28;43;01mNone\u001b[39;49;00m\u001b[43m)\u001b[49m\u001b[43m,\u001b[49m\n\u001b[1;32m   1744\u001b[0m \u001b[43m\u001b[49m\u001b[43m)\u001b[49m\n\u001b[1;32m   1745\u001b[0m \u001b[38;5;28;01massert\u001b[39;00m \u001b[38;5;28mself\u001b[39m\u001b[38;5;241m.\u001b[39mhandles \u001b[38;5;129;01mis\u001b[39;00m \u001b[38;5;129;01mnot\u001b[39;00m \u001b[38;5;28;01mNone\u001b[39;00m\n\u001b[1;32m   1746\u001b[0m f \u001b[38;5;241m=\u001b[39m \u001b[38;5;28mself\u001b[39m\u001b[38;5;241m.\u001b[39mhandles\u001b[38;5;241m.\u001b[39mhandle\n",
      "File \u001b[0;32m/projectnb/urbanclimate/yueqin/.conda/envs/py3/lib/python3.8/site-packages/pandas/io/common.py:856\u001b[0m, in \u001b[0;36mget_handle\u001b[0;34m(path_or_buf, mode, encoding, compression, memory_map, is_text, errors, storage_options)\u001b[0m\n\u001b[1;32m    851\u001b[0m \u001b[38;5;28;01melif\u001b[39;00m \u001b[38;5;28misinstance\u001b[39m(handle, \u001b[38;5;28mstr\u001b[39m):\n\u001b[1;32m    852\u001b[0m     \u001b[38;5;66;03m# Check whether the filename is to be opened in binary mode.\u001b[39;00m\n\u001b[1;32m    853\u001b[0m     \u001b[38;5;66;03m# Binary mode does not support 'encoding' and 'newline'.\u001b[39;00m\n\u001b[1;32m    854\u001b[0m     \u001b[38;5;28;01mif\u001b[39;00m ioargs\u001b[38;5;241m.\u001b[39mencoding \u001b[38;5;129;01mand\u001b[39;00m \u001b[38;5;124m\"\u001b[39m\u001b[38;5;124mb\u001b[39m\u001b[38;5;124m\"\u001b[39m \u001b[38;5;129;01mnot\u001b[39;00m \u001b[38;5;129;01min\u001b[39;00m ioargs\u001b[38;5;241m.\u001b[39mmode:\n\u001b[1;32m    855\u001b[0m         \u001b[38;5;66;03m# Encoding\u001b[39;00m\n\u001b[0;32m--> 856\u001b[0m         handle \u001b[38;5;241m=\u001b[39m \u001b[38;5;28;43mopen\u001b[39;49m\u001b[43m(\u001b[49m\n\u001b[1;32m    857\u001b[0m \u001b[43m            \u001b[49m\u001b[43mhandle\u001b[49m\u001b[43m,\u001b[49m\n\u001b[1;32m    858\u001b[0m \u001b[43m            \u001b[49m\u001b[43mioargs\u001b[49m\u001b[38;5;241;43m.\u001b[39;49m\u001b[43mmode\u001b[49m\u001b[43m,\u001b[49m\n\u001b[1;32m    859\u001b[0m \u001b[43m            \u001b[49m\u001b[43mencoding\u001b[49m\u001b[38;5;241;43m=\u001b[39;49m\u001b[43mioargs\u001b[49m\u001b[38;5;241;43m.\u001b[39;49m\u001b[43mencoding\u001b[49m\u001b[43m,\u001b[49m\n\u001b[1;32m    860\u001b[0m \u001b[43m            \u001b[49m\u001b[43merrors\u001b[49m\u001b[38;5;241;43m=\u001b[39;49m\u001b[43merrors\u001b[49m\u001b[43m,\u001b[49m\n\u001b[1;32m    861\u001b[0m \u001b[43m            \u001b[49m\u001b[43mnewline\u001b[49m\u001b[38;5;241;43m=\u001b[39;49m\u001b[38;5;124;43m\"\u001b[39;49m\u001b[38;5;124;43m\"\u001b[39;49m\u001b[43m,\u001b[49m\n\u001b[1;32m    862\u001b[0m \u001b[43m        \u001b[49m\u001b[43m)\u001b[49m\n\u001b[1;32m    863\u001b[0m     \u001b[38;5;28;01melse\u001b[39;00m:\n\u001b[1;32m    864\u001b[0m         \u001b[38;5;66;03m# Binary mode\u001b[39;00m\n\u001b[1;32m    865\u001b[0m         handle \u001b[38;5;241m=\u001b[39m \u001b[38;5;28mopen\u001b[39m(handle, ioargs\u001b[38;5;241m.\u001b[39mmode)\n",
      "\u001b[0;31mFileNotFoundError\u001b[0m: [Errno 2] No such file or directory: '/projectnb/urbanclimate/public/Idaho_2020/tsdata/Group_C/ec_flux_20210115_0000.dat'"
     ]
    }
   ],
   "source": [
    "%%time\n",
    "t_id = 0 # time index\n",
    "date_time = []\n",
    "for day in ds:\n",
    "    strday = str(day.strftime(\"%Y%m%d\"))            \n",
    "    # read in the input data    \n",
    "    fp_stats1 = DATA_DIRECTORY +'Group_C/ec_flux_' + strday + '_0000.dat'\n",
    "    fp_stats2 = DATA_DIRECTORY +'Group_B/ec_flux_' + strday + '_0000.dat'\n",
    "    fp_stats3 = DATA_DIRECTORY +'Group_A/ec_flux_' + strday + '_0000.dat'\n",
    "    if os.path.isfile(fp_stats2) & os.path.isfile(fp_stats3):\n",
    "    # if os.path.isfile(fp_stats1) & os.path.isfile(fp_stats2) & os.path.isfile(fp_stats2):\n",
    "        print('start processing:'+ strday)\n",
    "        # create an empty array for everyday;\n",
    "        u_ins = np.empty((rpat*24,sonum))*np.nan\n",
    "        v_ins = np.empty((rpat*24,sonum))*np.nan\n",
    "        w_ins = np.empty((rpat*24,sonum))*np.nan\n",
    "        Tsonic_ins = np.empty((rpat*24,sonum))*np.nan\n",
    "        diag_csat_ins = np.empty((rpat*24,sonum))*np.nan\n",
    "        C_ins = np.empty((rpat*24,sonum))*np.nan\n",
    "        q_ins = np.empty((rpat*24,sonum))*np.nan\n",
    "        sig_irga_ins = np.empty((rpat*24,sonum))*np.nan\n",
    "        P_ins = np.empty((rpat*24,sonum))*np.nan\n",
    "        date_num_ins = np.empty((rpat*24,3))*np.nan\n",
    "        # date_num_ins[:,0]=ds[iday].year\n",
    "        # date_num_ins[:,1]=ds[iday].month\n",
    "        # date_num_ins[:,2]=ds[iday].day\n",
    "\n",
    "        fid1=pd.read_csv(fp_stats1,sep=',',index_col=0,na_values=-9999)\n",
    "        fid2=pd.read_csv(fp_stats2,sep=',',index_col=0,na_values=-9999)\n",
    "        fid3=pd.read_csv(fp_stats3,sep=',',index_col=0,na_values=-9999)\n",
    "    else: \n",
    "        continue \n",
    "    date_time = fid2.index[round(rpat/2)-1::rpat]\n",
    "    for j in range(3):\n",
    "    # for j in [1,2]: # loop of files\n",
    "        fid = eval('fid'+str(j+1))\n",
    "        for i in range(4): # loop in order to change the order of column into the same as header\n",
    "            u_ins[:,i+4*j] = fid[u_header[i+4*j]] # u velocity, m/s\n",
    "            v_ins[:,i+4*j] = fid[v_header[i+4*j]] # v velocity, m/s\n",
    "            w_ins[:,i+4*j] = fid[w_header[i+4*j]] # w velocity, m/s\n",
    "            Tsonic_ins[:,i+4*j] = fid[Tsonic_header[i+4*j]] # sonic temperature, degC\n",
    "            diag_csat_ins[:,i+4*j] = fid[diag_header[i+4*j]] # diagnostic word for CSAT -- use to set flag\n",
    "            if co2_header[i+4*j] in list(fid.columns):\n",
    "                C_ins[:,i+4*j]=fid[co2_header[i+4*j]] # CO2 density, mg/m3\n",
    "            else:\n",
    "                C_ins[:,i+4*j]=np.nan\n",
    "            if h2o_header[i+4*j] in list(fid.columns):\n",
    "                q_ins[:,i+4*j]=fid[h2o_header[i+4*j]] # water vapor density, g/m3\n",
    "            else:\n",
    "                q_ins[:,i+4*j]=np.nan\n",
    "            if sig_header[i+4*j] in list(fid.columns):\n",
    "                sig_irga_ins[:,i+4*j]=fid[sig_header[i+4*j]]\n",
    "            else:\n",
    "                sig_irga_ins[:,i+4*j]=np.nan\n",
    "            if press_header[i+4*j] in list(fid.columns):\n",
    "                P_ins[:,i+4*j]=fid[press_header[i+4*j]] # pressure, kPa\n",
    "            else:\n",
    "                P_ins[:,i+4*j]=np.nan \n",
    "\n",
    "            ## change unit\n",
    "            q_ins  = q_ins*1e-3            # kg/m3\n",
    "            C_ins  = C_ins*1e-6            # kg/m3\n",
    "            Tsonic_ins = Tsonic_ins + 273.15       # K\n",
    "            P_ins  = P_ins*1e3             # Pa   \n",
    "\n",
    "    t_id += 1\n",
    "    # save results\n",
    "    if do_saving==1:\n",
    "        for var in out_var:\n",
    "        #     globals()[var].to_json(OUT_DIRECTORY + var +'_920.json')\n",
    "            a_file = open(OUT_DIRECTORY + var + '_' + strday +'.pkl', \"wb\")\n",
    "            pickle.dump(eval(var), a_file)\n",
    "            a_file.close()\n",
    "            print(var)\n",
    "        a_file = open(OUT_DIRECTORY + 'date_time_' + strday +'.pkl', \"wb\")\n",
    "        pickle.dump(date_time, a_file)\n",
    "        a_file.close()\n",
    "    print('finish:'+ strday)\n",
    "    end = time.time()\n",
    "    # print('elapsed time:'+ str(end - start))\n",
    "# a_file = open(OUT_DIRECTORY + 'date_time.pkl', \"wb\")\n",
    "# pickle.dump(date_time, a_file)\n",
    "# a_file.close()"
   ]
  },
  {
   "cell_type": "code",
   "execution_count": null,
   "metadata": {},
   "outputs": [],
   "source": [
    "fid1['Press_irga_C1']"
   ]
  },
  {
   "cell_type": "code",
   "execution_count": null,
   "metadata": {},
   "outputs": [],
   "source": [
    "pd.DataFrame(u_ins)"
   ]
  },
  {
   "cell_type": "code",
   "execution_count": null,
   "metadata": {},
   "outputs": [],
   "source": [
    "fid1"
   ]
  }
 ],
 "metadata": {
  "kernelspec": {
   "display_name": "py3",
   "language": "python",
   "name": "py3"
  },
  "language_info": {
   "codemirror_mode": {
    "name": "ipython",
    "version": 3
   },
   "file_extension": ".py",
   "mimetype": "text/x-python",
   "name": "python",
   "nbconvert_exporter": "python",
   "pygments_lexer": "ipython3",
   "version": "3.8.12"
  }
 },
 "nbformat": 4,
 "nbformat_minor": 4
}
